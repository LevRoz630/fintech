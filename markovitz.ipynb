{
 "cells": [
  {
   "cell_type": "code",
   "execution_count": 127,
   "metadata": {},
   "outputs": [],
   "source": [
    "import yfinance as yf\n",
    "import numpy as np\n",
    "import pandas as pd\n",
    "import cvxpy as cp\n",
    "\n",
    "tickers = [\n",
    "    \"AAPL\", \"NVDA\", \"MSFT\", \"AMZN\", \"GOOGL\", \"GOOG\", \"META\", \"^SPX\", \"AVGO\", \"TSLA\",\n",
    "    \"LLY\", \"WMT\", \"JPM\", \"V\", \"XOM\", \"MA\", \"UNH\", \"ORCL\", \"COST\", \"PG\",\n",
    "    \"NFLX\", \"JNJ\", \"ABBV\", \"HD\", \"BAC\", \"KO\", \"TMUS\", \"CVX\", \"CRM\", \"CSCO\",\n",
    "    \"MRK\", \"PM\", \"WFC\", \"IBM\", \"ABT\", \"LIN\", \"MCD\", \"GE\", \"PEP\", \"PLTR\",\n",
    "    \"ACN\", \"TMO\", \"T\", \"AXP\", \"MS\", \"VZ\", \"DIS\", \"GS\", \"RTX\", \"NOW\",\n",
    "    \"QCOM\", \"ISRG\", \"ADBE\", \"BX\", \"AMGN\", \"INTU\", \"PGR\", \"AMD\", \"CAT\", \"TXN\",\n",
    "    \"DHR\", \"NEE\", \"UBER\", \"SPGI\", \"BKNG\", \"PFE\", \"BLK\", \"BSX\", \"UNP\", \"SYK\",\n",
    "    \"SCHW\", \"GILD\", \"HON\", \"CMCSA\", \"VRTX\", \"C\", \"DE\", \"TJX\", \"AMAT\", \"COP\",\n",
    "    \"LOW\", \"BA\", \"PANW\", \"FI\", \"MDT\", \"BMY\", \"ADP\", \"CB\", \"ETN\", \"MMC\",\n",
    "    \"MU\", \"SBUX\", \"LMT\", \"NKE\", \"PLD\", \"ANET\", \"INTC\", \"ADI\", \"LRCX\", \"KKR\"\n",
    "]\n"
   ]
  },
  {
   "cell_type": "code",
   "execution_count": 128,
   "metadata": {},
   "outputs": [
    {
     "name": "stderr",
     "output_type": "stream",
     "text": [
      "[*********************100%***********************]  100 of 100 completed\n",
      "[*********************100%***********************]  1 of 1 completed\n"
     ]
    }
   ],
   "source": [
    "inc = yf.download(tickers, period='2y')\n",
    "t = yf.download(tickers= '^TYX', period='2y')"
   ]
  },
  {
   "cell_type": "code",
   "execution_count": 129,
   "metadata": {},
   "outputs": [],
   "source": [
    "inc = inc['Close']\n",
    "t = t['Close']\n"
   ]
  },
  {
   "cell_type": "code",
   "execution_count": 130,
   "metadata": {},
   "outputs": [],
   "source": [
    "rets = np.log(inc / inc.shift(1))\n",
    "t = t/365\n",
    "rets.drop('2023-03-15', inplace = True)\n",
    "t.drop('2023-03-15', inplace = True)\n",
    "t.drop('2023-03-14', inplace = True)\n",
    "t = t.reset_index()\n",
    "rets = rets.reset_index()\n",
    "rets = rets[rets.index < 365]\n",
    "rf_rate =t[t.index < 365]['^TYX'].values"
   ]
  },
  {
   "cell_type": "code",
   "execution_count": 131,
   "metadata": {},
   "outputs": [],
   "source": [
    "excess_returns = rets.merge(t, on = 'Date')\n",
    "rets.drop(['Date'], axis = 1, inplace = True)\n",
    "\n",
    "excess_returns.iloc[:, 1:-1] = excess_returns.iloc[:, 1:-1].sub(excess_returns[\"^TYX\"], axis=0)"
   ]
  },
  {
   "cell_type": "code",
   "execution_count": 132,
   "metadata": {},
   "outputs": [],
   "source": [
    "excess_returns.drop(['^TYX', 'Date'], axis = 1, inplace= True)"
   ]
  },
  {
   "cell_type": "code",
   "execution_count": 133,
   "metadata": {},
   "outputs": [],
   "source": [
    "cov_matrix = rets.cov().values * 252"
   ]
  },
  {
   "cell_type": "code",
   "execution_count": 134,
   "metadata": {},
   "outputs": [],
   "source": [
    "mu = rets.mean(axis=0).values.reshape(-1, 1)\n",
    "num_assets = rets.shape[1]\n",
    "weights = cp.Variable(num_assets)"
   ]
  },
  {
   "cell_type": "code",
   "execution_count": 135,
   "metadata": {},
   "outputs": [],
   "source": [
    "target_return = cp.Parameter()\n",
    "\n",
    "portfolio_return = mu.T @ weights\n",
    "portfolio_variance = cp.quad_form(weights, cov_matrix)\n",
    "\n",
    "problem = cp.Problem(\n",
    "    cp.Minimize(portfolio_variance),\n",
    "    [portfolio_return >= target_return, cp.sum(weights) == 1, weights >= 0]\n",
    ")"
   ]
  },
  {
   "cell_type": "code",
   "execution_count": 136,
   "metadata": {},
   "outputs": [],
   "source": [
    "import numpy as np\n",
    "\n",
    "target_returns = np.linspace(mu.min(), mu.max(), 50)\n",
    "efficient_portfolios = []\n",
    "\n",
    "for ret in target_returns:\n",
    "    target_return.value = ret\n",
    "    problem.solve()\n",
    "    efficient_portfolios.append({\n",
    "        'return': ret,\n",
    "        'volatility': np.sqrt(portfolio_variance.value),\n",
    "        'weights': weights.value\n",
    "    })"
   ]
  },
  {
   "cell_type": "code",
   "execution_count": null,
   "metadata": {},
   "outputs": [
    {
     "data": {
      "text/plain": [
       "array([0.01017534, 0.00985753, 0.01003562, 0.01023836, 0.01013151,\n",
       "       0.01008767, 0.00998356, 0.01030137, 0.01036438, 0.01035069,\n",
       "       0.01026301, 0.01010685, 0.00998356, 0.00984658, 0.00974795,\n",
       "       0.00969863, 0.00993425, 0.00992055, 0.01000822, 0.01010137,\n",
       "       0.01024384, 0.01042466, 0.01037534, 0.01038082, 0.01028219,\n",
       "       0.01035069, 0.0102137 , 0.01000274, 0.01010685, 0.01029041,\n",
       "       0.01007671, 0.01046027, 0.0102274 , 0.01017808, 0.0102    ,\n",
       "       0.01030685, 0.01050685, 0.01054247, 0.01040822, 0.01026849,\n",
       "       0.01034795, 0.01052603, 0.01060548, 0.01062466, 0.01068767,\n",
       "       0.01081644, 0.01087671, 0.01082466, 0.01086301, 0.01096712,\n",
       "       0.01087397, 0.01069315, 0.01056438, 0.01050137, 0.01063562,\n",
       "       0.01065753, 0.0106137 , 0.0108    , 0.01063562, 0.01064932,\n",
       "       0.01070411, 0.01079726, 0.01063288, 0.01054247, 0.01056164,\n",
       "       0.01046027, 0.01043288, 0.01060822, 0.01046849, 0.01046301,\n",
       "       0.01052055, 0.01041918, 0.01072055, 0.01056164, 0.01060274,\n",
       "       0.01080548, 0.01096712, 0.01105205, 0.01107671, 0.01101096,\n",
       "       0.01082466, 0.01067123, 0.01074795, 0.01074795, 0.01068767,\n",
       "       0.01051781, 0.01071233, 0.01070411, 0.01073973, 0.01083562,\n",
       "       0.01076164, 0.01111781, 0.0110411 , 0.01101096, 0.01124658,\n",
       "       0.01141096, 0.01179178, 0.01154521, 0.01166575, 0.01151781,\n",
       "       0.01144931, 0.01161918, 0.01170411, 0.01172877, 0.01183288,\n",
       "       0.01194795, 0.01208767, 0.01199726, 0.01220822, 0.01208219,\n",
       "       0.01173699, 0.01178356, 0.01176438, 0.01175616, 0.01160822,\n",
       "       0.01158356, 0.01151781, 0.01173973, 0.01198904, 0.01194247,\n",
       "       0.01192329, 0.01186849, 0.01199178, 0.01190685, 0.01188219,\n",
       "       0.0120137 , 0.01208493, 0.01204384, 0.01213151, 0.01205753,\n",
       "       0.01247123, 0.0123863 , 0.01276164, 0.01286575, 0.01296438,\n",
       "       0.01295616, 0.01290685, 0.01313699, 0.01352603, 0.01336164,\n",
       "       0.0133863 , 0.01353699, 0.01360274, 0.01323562, 0.01298082,\n",
       "       0.0133452 , 0.01309589, 0.01333151, 0.01356164, 0.01368493,\n",
       "       0.01398082, 0.01394247, 0.01366849, 0.01359726, 0.01395068,\n",
       "       0.01366575, 0.01376164, 0.01379452, 0.0137589 , 0.01363014,\n",
       "       0.01320822, 0.01301918, 0.01323836, 0.0129726 , 0.01275616,\n",
       "       0.01308767, 0.01296712, 0.01299726, 0.01266027, 0.01285479,\n",
       "       0.01266301, 0.01259452, 0.01253425, 0.01254794, 0.01245753,\n",
       "       0.01261096, 0.01241918, 0.01239452, 0.01219452, 0.01236438,\n",
       "       0.01210411, 0.0121589 , 0.01179452, 0.0115726 , 0.01163288,\n",
       "       0.01184931, 0.01186301, 0.01179178, 0.01146027, 0.01110685,\n",
       "       0.01103288, 0.01114794, 0.01105479, 0.0109726 , 0.01105753,\n",
       "       0.01110685, 0.01107671, 0.01080822, 0.01092603, 0.01101096,\n",
       "       0.01119178, 0.01111233, 0.01133425, 0.01150685, 0.01143288,\n",
       "       0.01146575, 0.01150685, 0.01145753, 0.01149863, 0.01178904,\n",
       "       0.0118137 , 0.01197534, 0.01192603, 0.01182466, 0.01199452,\n",
       "       0.01209041, 0.012     , 0.0120274 , 0.01187671, 0.01172055,\n",
       "       0.01154795, 0.0112411 , 0.01158082, 0.01190411, 0.01176986,\n",
       "       0.01180822, 0.01198904, 0.01200274, 0.0119726 , 0.01223562,\n",
       "       0.0121863 , 0.01211233, 0.0121863 , 0.01218904, 0.01230685,\n",
       "       0.01222466, 0.012     , 0.01210411, 0.01216712, 0.01208219,\n",
       "       0.0119863 , 0.01185206, 0.01193151, 0.01171233, 0.01161644,\n",
       "       0.01163836, 0.01167671, 0.01171781, 0.0118137 , 0.01191507,\n",
       "       0.0121726 , 0.01213151, 0.01223562, 0.01216712, 0.01220548,\n",
       "       0.01216986, 0.01203288, 0.01212603, 0.01205479, 0.01194247,\n",
       "       0.01191507, 0.0122411 , 0.01235342, 0.01235342, 0.01225206,\n",
       "       0.01241644, 0.01247397, 0.01232603, 0.01269863, 0.01276712,\n",
       "       0.01260822, 0.01298904, 0.01303562, 0.01287397, 0.013     ,\n",
       "       0.01290685, 0.01294247, 0.01293973, 0.01310685, 0.01320548,\n",
       "       0.01309863, 0.01298082, 0.01312329, 0.01291233, 0.01292603,\n",
       "       0.01276986, 0.01271781, 0.01262192, 0.01269041, 0.01261918,\n",
       "       0.01272877, 0.01266575, 0.0125863 , 0.0123726 , 0.01237808,\n",
       "       0.01249315, 0.01252877, 0.01247671, 0.01246849, 0.01254794,\n",
       "       0.01252877, 0.01275616, 0.01299726, 0.01283562, 0.01274521,\n",
       "       0.01246849, 0.01228493, 0.01216712, 0.01213699, 0.01246027,\n",
       "       0.01258904, 0.01243014, 0.01219178, 0.01205479, 0.01192055,\n",
       "       0.01208219, 0.01192877, 0.01203288, 0.01204931, 0.01199452,\n",
       "       0.01197808, 0.01218356, 0.01212877, 0.01233425, 0.01272055,\n",
       "       0.0126274 , 0.01239178, 0.0122411 , 0.0122137 , 0.01231507,\n",
       "       0.01224657, 0.01206575, 0.01206027, 0.01220274, 0.01198356,\n",
       "       0.01194247, 0.01207123, 0.01219178, 0.01226849, 0.01224932,\n",
       "       0.01246027, 0.01232877, 0.01220822, 0.01214521, 0.01205479,\n",
       "       0.01196986, 0.01170137, 0.01125753, 0.01115616, 0.01144384,\n",
       "       0.01167397, 0.01174521, 0.01157534, 0.01149863, 0.01141096,\n",
       "       0.01125479, 0.01145205, 0.01136712, 0.01127397, 0.01115069,\n",
       "       0.01109863, 0.01132603, 0.01123836, 0.01125479, 0.01130959])"
      ]
     },
     "execution_count": 141,
     "metadata": {},
     "output_type": "execute_result"
    }
   ],
   "source": [
    "\n"
   ]
  },
  {
   "cell_type": "code",
   "execution_count": 142,
   "metadata": {},
   "outputs": [],
   "source": [
    "sharpe_ratios = [(p['return'] - rf_rate.mean()) / p['volatility'] for p in efficient_portfolios]\n",
    "tangency_portfolio = efficient_portfolios[np.argmax(sharpe_ratios)]"
   ]
  },
  {
   "cell_type": "code",
   "execution_count": 143,
   "metadata": {},
   "outputs": [
    {
     "data": {
      "image/png": "[encoded data removed]",
      "text/plain": [
       "<Figure size 640x480 with 1 Axes>"
      ]
     },
     "metadata": {},
     "output_type": "display_data"
    }
   ],
   "source": [
    "import matplotlib.pyplot as plt\n",
    "\n",
    "plt.plot([p['volatility'] for p in efficient_portfolios], [p['return'] for p in efficient_portfolios])\n",
    "plt.scatter(tangency_portfolio['volatility'], tangency_portfolio['return'], color='red', marker='*')\n",
    "plt.xlabel('Volatility')\n",
    "plt.ylabel('Return')\n",
    "plt.show()"
   ]
  },
  {
   "cell_type": "code",
   "execution_count": null,
   "metadata": {},
   "outputs": [],
   "source": []
  }
 ],
 "metadata": {
  "kernelspec": {
   "display_name": "Python 3",
   "language": "python",
   "name": "python3"
  },
  "language_info": {
   "codemirror_mode": {
    "name": "ipython",
    "version": 3
   },
   "file_extension": ".py",
   "mimetype": "text/x-python",
   "name": "python",
   "nbconvert_exporter": "python",
   "pygments_lexer": "ipython3",
   "version": "3.11.0"
  }
 },
 "nbformat": 4,
 "nbformat_minor": 2
}
